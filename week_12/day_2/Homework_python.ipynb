{
 "cells": [
  {
   "cell_type": "markdown",
   "id": "3d63c507",
   "metadata": {},
   "source": [
    "Load in the dataset (starbucks_drinkMenu_expanded.csv), calling it drinks_content, and then briefly explore it, printing out: first 5 rows, last 5 rows, and then all of the data. Find out the dimensions of the data (number of rows and columns) and the column names."
   ]
  },
  {
   "cell_type": "code",
   "execution_count": 1,
   "id": "2bb2d91d",
   "metadata": {},
   "outputs": [],
   "source": [
    "import pandas as pd"
   ]
  },
  {
   "cell_type": "code",
   "execution_count": 2,
   "id": "bd12834c",
   "metadata": {},
   "outputs": [],
   "source": [
    "drinks_content = pd.read_csv('data/starbucks_drinkMenu_expanded.csv')"
   ]
  },
  {
   "cell_type": "code",
   "execution_count": 4,
   "id": "f9cb0348",
   "metadata": {},
   "outputs": [
    {
     "name": "stdout",
     "output_type": "stream",
     "text": [
      "<class 'pandas.core.frame.DataFrame'>\n",
      "RangeIndex: 242 entries, 0 to 241\n",
      "Data columns (total 18 columns):\n",
      " #   Column                     Non-Null Count  Dtype  \n",
      "---  ------                     --------------  -----  \n",
      " 0   Beverage_category          242 non-null    object \n",
      " 1   Beverage                   242 non-null    object \n",
      " 2   Beverage_prep              242 non-null    object \n",
      " 3   Calories                   242 non-null    int64  \n",
      " 4    Total Fat (g)             242 non-null    object \n",
      " 5   Trans Fat (g)              242 non-null    float64\n",
      " 6   Saturated Fat (g)          242 non-null    float64\n",
      " 7    Sodium (mg)               242 non-null    int64  \n",
      " 8    Total Carbohydrates (g)   242 non-null    int64  \n",
      " 9   Cholesterol (mg)           242 non-null    int64  \n",
      " 10   Dietary Fibre (g)         242 non-null    int64  \n",
      " 11   Sugars (g)                242 non-null    int64  \n",
      " 12   Protein (g)               242 non-null    float64\n",
      " 13  Vitamin A (% DV)           242 non-null    object \n",
      " 14  Vitamin C (% DV)           242 non-null    object \n",
      " 15   Calcium (% DV)            242 non-null    object \n",
      " 16  Iron (% DV)                242 non-null    object \n",
      " 17  Caffeine (mg)              241 non-null    object \n",
      "dtypes: float64(3), int64(6), object(9)\n",
      "memory usage: 34.2+ KB\n"
     ]
    }
   ],
   "source": [
    "drinks_content.info()"
   ]
  },
  {
   "cell_type": "code",
   "execution_count": 6,
   "id": "167d48b6",
   "metadata": {},
   "outputs": [
    {
     "name": "stdout",
     "output_type": "stream",
     "text": [
      "         Beverage_category       Beverage      Beverage_prep  Calories  \\\n",
      "0                   Coffee  Brewed Coffee              Short         3   \n",
      "1                   Coffee  Brewed Coffee               Tall         4   \n",
      "2                   Coffee  Brewed Coffee             Grande         5   \n",
      "3                   Coffee  Brewed Coffee              Venti         5   \n",
      "4  Classic Espresso Drinks    Caffè Latte  Short Nonfat Milk        70   \n",
      "\n",
      "   Total Fat (g)  Trans Fat (g)   Saturated Fat (g)   Sodium (mg)  \\\n",
      "0            0.1             0.0                0.0             0   \n",
      "1            0.1             0.0                0.0             0   \n",
      "2            0.1             0.0                0.0             0   \n",
      "3            0.1             0.0                0.0             0   \n",
      "4            0.1             0.1                0.0             5   \n",
      "\n",
      "    Total Carbohydrates (g)   Cholesterol (mg)   Dietary Fibre (g)  \\\n",
      "0                          5                 0                   0   \n",
      "1                         10                 0                   0   \n",
      "2                         10                 0                   0   \n",
      "3                         10                 0                   0   \n",
      "4                         75                10                   0   \n",
      "\n",
      "    Sugars (g)   Protein (g)  Vitamin A (% DV)  Vitamin C (% DV)  \\\n",
      "0            0            0.3                0%               0%   \n",
      "1            0            0.5                0%               0%   \n",
      "2            0            1.0                0%               0%   \n",
      "3            0            1.0                0%               0%   \n",
      "4            9            6.0               10%               0%   \n",
      "\n",
      "   Calcium (% DV)  Iron (% DV)  Caffeine (mg)  \n",
      "0               0%           0%           175  \n",
      "1               0%           0%           260  \n",
      "2               0%           0%           330  \n",
      "3               2%           0%           410  \n",
      "4              20%           0%            75  \n"
     ]
    }
   ],
   "source": [
    "print(drinks_content.head(5))"
   ]
  },
  {
   "cell_type": "code",
   "execution_count": 7,
   "id": "cc7b687a",
   "metadata": {},
   "outputs": [
    {
     "name": "stdout",
     "output_type": "stream",
     "text": [
      "              Beverage_category                                      Beverage  \\\n",
      "237  Frappuccino® Blended Crème  Strawberries & Crème (Without Whipped Cream)   \n",
      "238  Frappuccino® Blended Crème          Vanilla Bean (Without Whipped Cream)   \n",
      "239  Frappuccino® Blended Crème          Vanilla Bean (Without Whipped Cream)   \n",
      "240  Frappuccino® Blended Crème          Vanilla Bean (Without Whipped Cream)   \n",
      "241  Frappuccino® Blended Crème          Vanilla Bean (Without Whipped Cream)   \n",
      "\n",
      "          Beverage_prep  Calories  Total Fat (g)  Trans Fat (g)   \\\n",
      "237             Soymilk       320            3 2             0.4   \n",
      "238    Tall Nonfat Milk       170            0.1             0.1   \n",
      "239          Whole Milk       200            3.5             2.0   \n",
      "240             Soymilk       180            1.5             0.2   \n",
      "241  Grande Nonfat Milk       240            0.1             0.1   \n",
      "\n",
      "     Saturated Fat (g)   Sodium (mg)   Total Carbohydrates (g)   \\\n",
      "237                0.0             0                        250   \n",
      "238                0.0             0                        160   \n",
      "239                0.1            10                        160   \n",
      "240                0.0             0                        160   \n",
      "241                0.0             5                        230   \n",
      "\n",
      "     Cholesterol (mg)   Dietary Fibre (g)   Sugars (g)   Protein (g)   \\\n",
      "237                67                   1           64            5.0   \n",
      "238                39                   0           38            4.0   \n",
      "239                39                   0           38            3.0   \n",
      "240                37                   1           35            3.0   \n",
      "241                56                   0           55            5.0   \n",
      "\n",
      "    Vitamin A (% DV)  Vitamin C (% DV)  Calcium (% DV)  Iron (% DV)   \\\n",
      "237                6%               8%              20%          10%   \n",
      "238                6%               0%              10%           0%   \n",
      "239                6%               0%              10%           0%   \n",
      "240                4%               0%              10%           6%   \n",
      "241                8%               0%              15%           0%   \n",
      "\n",
      "    Caffeine (mg)  \n",
      "237             0  \n",
      "238             0  \n",
      "239             0  \n",
      "240             0  \n",
      "241             0  \n"
     ]
    }
   ],
   "source": [
    "print(drinks_content.tail(5))"
   ]
  },
  {
   "cell_type": "code",
   "execution_count": 8,
   "id": "a20358b1",
   "metadata": {},
   "outputs": [
    {
     "name": "stdout",
     "output_type": "stream",
     "text": [
      "              Beverage_category                                      Beverage  \\\n",
      "0                        Coffee                                 Brewed Coffee   \n",
      "1                        Coffee                                 Brewed Coffee   \n",
      "2                        Coffee                                 Brewed Coffee   \n",
      "3                        Coffee                                 Brewed Coffee   \n",
      "4       Classic Espresso Drinks                                   Caffè Latte   \n",
      "..                          ...                                           ...   \n",
      "237  Frappuccino® Blended Crème  Strawberries & Crème (Without Whipped Cream)   \n",
      "238  Frappuccino® Blended Crème          Vanilla Bean (Without Whipped Cream)   \n",
      "239  Frappuccino® Blended Crème          Vanilla Bean (Without Whipped Cream)   \n",
      "240  Frappuccino® Blended Crème          Vanilla Bean (Without Whipped Cream)   \n",
      "241  Frappuccino® Blended Crème          Vanilla Bean (Without Whipped Cream)   \n",
      "\n",
      "          Beverage_prep  Calories  Total Fat (g)  Trans Fat (g)   \\\n",
      "0                 Short         3            0.1             0.0   \n",
      "1                  Tall         4            0.1             0.0   \n",
      "2                Grande         5            0.1             0.0   \n",
      "3                 Venti         5            0.1             0.0   \n",
      "4     Short Nonfat Milk        70            0.1             0.1   \n",
      "..                  ...       ...            ...             ...   \n",
      "237             Soymilk       320            3 2             0.4   \n",
      "238    Tall Nonfat Milk       170            0.1             0.1   \n",
      "239          Whole Milk       200            3.5             2.0   \n",
      "240             Soymilk       180            1.5             0.2   \n",
      "241  Grande Nonfat Milk       240            0.1             0.1   \n",
      "\n",
      "     Saturated Fat (g)   Sodium (mg)   Total Carbohydrates (g)   \\\n",
      "0                  0.0             0                          5   \n",
      "1                  0.0             0                         10   \n",
      "2                  0.0             0                         10   \n",
      "3                  0.0             0                         10   \n",
      "4                  0.0             5                         75   \n",
      "..                 ...           ...                        ...   \n",
      "237                0.0             0                        250   \n",
      "238                0.0             0                        160   \n",
      "239                0.1            10                        160   \n",
      "240                0.0             0                        160   \n",
      "241                0.0             5                        230   \n",
      "\n",
      "     Cholesterol (mg)   Dietary Fibre (g)   Sugars (g)   Protein (g)   \\\n",
      "0                   0                   0            0            0.3   \n",
      "1                   0                   0            0            0.5   \n",
      "2                   0                   0            0            1.0   \n",
      "3                   0                   0            0            1.0   \n",
      "4                  10                   0            9            6.0   \n",
      "..                ...                 ...          ...            ...   \n",
      "237                67                   1           64            5.0   \n",
      "238                39                   0           38            4.0   \n",
      "239                39                   0           38            3.0   \n",
      "240                37                   1           35            3.0   \n",
      "241                56                   0           55            5.0   \n",
      "\n",
      "    Vitamin A (% DV)  Vitamin C (% DV)  Calcium (% DV)  Iron (% DV)   \\\n",
      "0                  0%               0%               0%           0%   \n",
      "1                  0%               0%               0%           0%   \n",
      "2                  0%               0%               0%           0%   \n",
      "3                  0%               0%               2%           0%   \n",
      "4                 10%               0%              20%           0%   \n",
      "..                ...              ...              ...          ...   \n",
      "237                6%               8%              20%          10%   \n",
      "238                6%               0%              10%           0%   \n",
      "239                6%               0%              10%           0%   \n",
      "240                4%               0%              10%           6%   \n",
      "241                8%               0%              15%           0%   \n",
      "\n",
      "    Caffeine (mg)  \n",
      "0             175  \n",
      "1             260  \n",
      "2             330  \n",
      "3             410  \n",
      "4              75  \n",
      "..            ...  \n",
      "237             0  \n",
      "238             0  \n",
      "239             0  \n",
      "240             0  \n",
      "241             0  \n",
      "\n",
      "[242 rows x 18 columns]\n"
     ]
    }
   ],
   "source": [
    "print(drinks_content)"
   ]
  },
  {
   "cell_type": "code",
   "execution_count": 9,
   "id": "579919fb",
   "metadata": {},
   "outputs": [
    {
     "data": {
      "text/plain": [
       "(242, 18)"
      ]
     },
     "execution_count": 9,
     "metadata": {},
     "output_type": "execute_result"
    }
   ],
   "source": [
    "drinks_content.shape"
   ]
  },
  {
   "cell_type": "markdown",
   "id": "5a6bff00",
   "metadata": {},
   "source": [
    "We're going to be looking at the number of Calories in each drink. Calculate some quick summary statistics (e.g. the mean, the maximum and minimum).\n"
   ]
  },
  {
   "cell_type": "code",
   "execution_count": 13,
   "id": "f0d018d7",
   "metadata": {},
   "outputs": [
    {
     "name": "stdout",
     "output_type": "stream",
     "text": [
      "193.87190082644628 is the mean calorie of drinks, 510 is the max, and 0 is the min.\n"
     ]
    }
   ],
   "source": [
    "print(drinks_content.Calories.mean(),\"is the mean calorie of drinks,\",drinks_content.Calories.max(),\"is the max, and\",drinks_content.Calories.min(), \"is the min.\")"
   ]
  },
  {
   "cell_type": "markdown",
   "id": "3455422a",
   "metadata": {},
   "source": [
    "Select the variables Beverage_category, Beverage, Beverage prep and Calories from the drinks_content data frame, and assign the selected columns to a new data frame called drinks. Check if there are any missing values anywhere in the data, and drop any rows containing them if there are."
   ]
  },
  {
   "cell_type": "code",
   "execution_count": 16,
   "id": "c7daf16f",
   "metadata": {},
   "outputs": [
    {
     "data": {
      "text/html": [
       "<div>\n",
       "<style scoped>\n",
       "    .dataframe tbody tr th:only-of-type {\n",
       "        vertical-align: middle;\n",
       "    }\n",
       "\n",
       "    .dataframe tbody tr th {\n",
       "        vertical-align: top;\n",
       "    }\n",
       "\n",
       "    .dataframe thead th {\n",
       "        text-align: right;\n",
       "    }\n",
       "</style>\n",
       "<table border=\"1\" class=\"dataframe\">\n",
       "  <thead>\n",
       "    <tr style=\"text-align: right;\">\n",
       "      <th></th>\n",
       "      <th>Beverage_category</th>\n",
       "      <th>Beverage_prep</th>\n",
       "      <th>Calories</th>\n",
       "    </tr>\n",
       "  </thead>\n",
       "  <tbody>\n",
       "    <tr>\n",
       "      <th>0</th>\n",
       "      <td>Coffee</td>\n",
       "      <td>Short</td>\n",
       "      <td>3</td>\n",
       "    </tr>\n",
       "    <tr>\n",
       "      <th>1</th>\n",
       "      <td>Coffee</td>\n",
       "      <td>Tall</td>\n",
       "      <td>4</td>\n",
       "    </tr>\n",
       "    <tr>\n",
       "      <th>2</th>\n",
       "      <td>Coffee</td>\n",
       "      <td>Grande</td>\n",
       "      <td>5</td>\n",
       "    </tr>\n",
       "    <tr>\n",
       "      <th>3</th>\n",
       "      <td>Coffee</td>\n",
       "      <td>Venti</td>\n",
       "      <td>5</td>\n",
       "    </tr>\n",
       "    <tr>\n",
       "      <th>4</th>\n",
       "      <td>Classic Espresso Drinks</td>\n",
       "      <td>Short Nonfat Milk</td>\n",
       "      <td>70</td>\n",
       "    </tr>\n",
       "    <tr>\n",
       "      <th>...</th>\n",
       "      <td>...</td>\n",
       "      <td>...</td>\n",
       "      <td>...</td>\n",
       "    </tr>\n",
       "    <tr>\n",
       "      <th>237</th>\n",
       "      <td>Frappuccino® Blended Crème</td>\n",
       "      <td>Soymilk</td>\n",
       "      <td>320</td>\n",
       "    </tr>\n",
       "    <tr>\n",
       "      <th>238</th>\n",
       "      <td>Frappuccino® Blended Crème</td>\n",
       "      <td>Tall Nonfat Milk</td>\n",
       "      <td>170</td>\n",
       "    </tr>\n",
       "    <tr>\n",
       "      <th>239</th>\n",
       "      <td>Frappuccino® Blended Crème</td>\n",
       "      <td>Whole Milk</td>\n",
       "      <td>200</td>\n",
       "    </tr>\n",
       "    <tr>\n",
       "      <th>240</th>\n",
       "      <td>Frappuccino® Blended Crème</td>\n",
       "      <td>Soymilk</td>\n",
       "      <td>180</td>\n",
       "    </tr>\n",
       "    <tr>\n",
       "      <th>241</th>\n",
       "      <td>Frappuccino® Blended Crème</td>\n",
       "      <td>Grande Nonfat Milk</td>\n",
       "      <td>240</td>\n",
       "    </tr>\n",
       "  </tbody>\n",
       "</table>\n",
       "<p>242 rows × 3 columns</p>\n",
       "</div>"
      ],
      "text/plain": [
       "              Beverage_category       Beverage_prep  Calories\n",
       "0                        Coffee               Short         3\n",
       "1                        Coffee                Tall         4\n",
       "2                        Coffee              Grande         5\n",
       "3                        Coffee               Venti         5\n",
       "4       Classic Espresso Drinks   Short Nonfat Milk        70\n",
       "..                          ...                 ...       ...\n",
       "237  Frappuccino® Blended Crème             Soymilk       320\n",
       "238  Frappuccino® Blended Crème    Tall Nonfat Milk       170\n",
       "239  Frappuccino® Blended Crème          Whole Milk       200\n",
       "240  Frappuccino® Blended Crème             Soymilk       180\n",
       "241  Frappuccino® Blended Crème  Grande Nonfat Milk       240\n",
       "\n",
       "[242 rows x 3 columns]"
      ]
     },
     "execution_count": 16,
     "metadata": {},
     "output_type": "execute_result"
    }
   ],
   "source": [
    "drinks = drinks_content.loc[:, [\"Beverage_category\", \"Beverage_prep\", \"Calories\"]].copy()\n",
    "drinks"
   ]
  },
  {
   "cell_type": "code",
   "execution_count": 19,
   "id": "3064be6e",
   "metadata": {},
   "outputs": [
    {
     "name": "stdout",
     "output_type": "stream",
     "text": [
      "<class 'pandas.core.frame.DataFrame'>\n",
      "RangeIndex: 242 entries, 0 to 241\n",
      "Data columns (total 3 columns):\n",
      " #   Column             Non-Null Count  Dtype \n",
      "---  ------             --------------  ----- \n",
      " 0   Beverage_category  242 non-null    object\n",
      " 1   Beverage_prep      242 non-null    object\n",
      " 2   Calories           242 non-null    int64 \n",
      "dtypes: int64(1), object(2)\n",
      "memory usage: 5.8+ KB\n"
     ]
    }
   ],
   "source": [
    "drinks.info()\n"
   ]
  },
  {
   "cell_type": "code",
   "execution_count": 22,
   "id": "87846402",
   "metadata": {},
   "outputs": [
    {
     "data": {
      "text/plain": [
       "Beverage_category    0\n",
       "Beverage_prep        0\n",
       "Calories             0\n",
       "dtype: int64"
      ]
     },
     "execution_count": 22,
     "metadata": {},
     "output_type": "execute_result"
    }
   ],
   "source": [
    "drinks.isna().sum() #no NA values."
   ]
  },
  {
   "cell_type": "markdown",
   "id": "c7573bc7",
   "metadata": {},
   "source": [
    "In your drinks dataframe create a new variable (column) called calorie_diff, which stores the difference between 135 calories (135 calories = 10 cubes of sugar!) and the calories in each drink. (Hint: you’ll want to subtract the calories from 135 to see which drink have more or less than 10 cups of sugar)."
   ]
  },
  {
   "cell_type": "code",
   "execution_count": 24,
   "id": "5f2b46b5",
   "metadata": {},
   "outputs": [
    {
     "data": {
      "text/html": [
       "<div>\n",
       "<style scoped>\n",
       "    .dataframe tbody tr th:only-of-type {\n",
       "        vertical-align: middle;\n",
       "    }\n",
       "\n",
       "    .dataframe tbody tr th {\n",
       "        vertical-align: top;\n",
       "    }\n",
       "\n",
       "    .dataframe thead th {\n",
       "        text-align: right;\n",
       "    }\n",
       "</style>\n",
       "<table border=\"1\" class=\"dataframe\">\n",
       "  <thead>\n",
       "    <tr style=\"text-align: right;\">\n",
       "      <th></th>\n",
       "      <th>Beverage_category</th>\n",
       "      <th>Beverage_prep</th>\n",
       "      <th>Calories</th>\n",
       "      <th>calorie_diff</th>\n",
       "    </tr>\n",
       "  </thead>\n",
       "  <tbody>\n",
       "    <tr>\n",
       "      <th>0</th>\n",
       "      <td>Coffee</td>\n",
       "      <td>Short</td>\n",
       "      <td>3</td>\n",
       "      <td>-132</td>\n",
       "    </tr>\n",
       "    <tr>\n",
       "      <th>1</th>\n",
       "      <td>Coffee</td>\n",
       "      <td>Tall</td>\n",
       "      <td>4</td>\n",
       "      <td>-131</td>\n",
       "    </tr>\n",
       "    <tr>\n",
       "      <th>2</th>\n",
       "      <td>Coffee</td>\n",
       "      <td>Grande</td>\n",
       "      <td>5</td>\n",
       "      <td>-130</td>\n",
       "    </tr>\n",
       "    <tr>\n",
       "      <th>3</th>\n",
       "      <td>Coffee</td>\n",
       "      <td>Venti</td>\n",
       "      <td>5</td>\n",
       "      <td>-130</td>\n",
       "    </tr>\n",
       "    <tr>\n",
       "      <th>4</th>\n",
       "      <td>Classic Espresso Drinks</td>\n",
       "      <td>Short Nonfat Milk</td>\n",
       "      <td>70</td>\n",
       "      <td>-65</td>\n",
       "    </tr>\n",
       "    <tr>\n",
       "      <th>...</th>\n",
       "      <td>...</td>\n",
       "      <td>...</td>\n",
       "      <td>...</td>\n",
       "      <td>...</td>\n",
       "    </tr>\n",
       "    <tr>\n",
       "      <th>237</th>\n",
       "      <td>Frappuccino® Blended Crème</td>\n",
       "      <td>Soymilk</td>\n",
       "      <td>320</td>\n",
       "      <td>185</td>\n",
       "    </tr>\n",
       "    <tr>\n",
       "      <th>238</th>\n",
       "      <td>Frappuccino® Blended Crème</td>\n",
       "      <td>Tall Nonfat Milk</td>\n",
       "      <td>170</td>\n",
       "      <td>35</td>\n",
       "    </tr>\n",
       "    <tr>\n",
       "      <th>239</th>\n",
       "      <td>Frappuccino® Blended Crème</td>\n",
       "      <td>Whole Milk</td>\n",
       "      <td>200</td>\n",
       "      <td>65</td>\n",
       "    </tr>\n",
       "    <tr>\n",
       "      <th>240</th>\n",
       "      <td>Frappuccino® Blended Crème</td>\n",
       "      <td>Soymilk</td>\n",
       "      <td>180</td>\n",
       "      <td>45</td>\n",
       "    </tr>\n",
       "    <tr>\n",
       "      <th>241</th>\n",
       "      <td>Frappuccino® Blended Crème</td>\n",
       "      <td>Grande Nonfat Milk</td>\n",
       "      <td>240</td>\n",
       "      <td>105</td>\n",
       "    </tr>\n",
       "  </tbody>\n",
       "</table>\n",
       "<p>242 rows × 4 columns</p>\n",
       "</div>"
      ],
      "text/plain": [
       "              Beverage_category       Beverage_prep  Calories  calorie_diff\n",
       "0                        Coffee               Short         3          -132\n",
       "1                        Coffee                Tall         4          -131\n",
       "2                        Coffee              Grande         5          -130\n",
       "3                        Coffee               Venti         5          -130\n",
       "4       Classic Espresso Drinks   Short Nonfat Milk        70           -65\n",
       "..                          ...                 ...       ...           ...\n",
       "237  Frappuccino® Blended Crème             Soymilk       320           185\n",
       "238  Frappuccino® Blended Crème    Tall Nonfat Milk       170            35\n",
       "239  Frappuccino® Blended Crème          Whole Milk       200            65\n",
       "240  Frappuccino® Blended Crème             Soymilk       180            45\n",
       "241  Frappuccino® Blended Crème  Grande Nonfat Milk       240           105\n",
       "\n",
       "[242 rows x 4 columns]"
      ]
     },
     "execution_count": 24,
     "metadata": {},
     "output_type": "execute_result"
    }
   ],
   "source": [
    "drinks.loc[: ,\"calorie_diff\"] = drinks.Calories - 135\n",
    "drinks"
   ]
  },
  {
   "cell_type": "markdown",
   "id": "9645c483",
   "metadata": {},
   "source": [
    "Summarise the mean number of calories in each beverage category."
   ]
  },
  {
   "cell_type": "code",
   "execution_count": 25,
   "id": "3d53a663",
   "metadata": {},
   "outputs": [
    {
     "data": {
      "text/html": [
       "<div>\n",
       "<style scoped>\n",
       "    .dataframe tbody tr th:only-of-type {\n",
       "        vertical-align: middle;\n",
       "    }\n",
       "\n",
       "    .dataframe tbody tr th {\n",
       "        vertical-align: top;\n",
       "    }\n",
       "\n",
       "    .dataframe thead th {\n",
       "        text-align: right;\n",
       "    }\n",
       "</style>\n",
       "<table border=\"1\" class=\"dataframe\">\n",
       "  <thead>\n",
       "    <tr style=\"text-align: right;\">\n",
       "      <th></th>\n",
       "      <th>Calories</th>\n",
       "      <th>calorie_diff</th>\n",
       "    </tr>\n",
       "    <tr>\n",
       "      <th>Beverage_category</th>\n",
       "      <th></th>\n",
       "      <th></th>\n",
       "    </tr>\n",
       "  </thead>\n",
       "  <tbody>\n",
       "    <tr>\n",
       "      <th>Classic Espresso Drinks</th>\n",
       "      <td>140.172414</td>\n",
       "      <td>5.172414</td>\n",
       "    </tr>\n",
       "    <tr>\n",
       "      <th>Coffee</th>\n",
       "      <td>4.250000</td>\n",
       "      <td>-130.750000</td>\n",
       "    </tr>\n",
       "    <tr>\n",
       "      <th>Frappuccino® Blended Coffee</th>\n",
       "      <td>276.944444</td>\n",
       "      <td>141.944444</td>\n",
       "    </tr>\n",
       "    <tr>\n",
       "      <th>Frappuccino® Blended Crème</th>\n",
       "      <td>233.076923</td>\n",
       "      <td>98.076923</td>\n",
       "    </tr>\n",
       "    <tr>\n",
       "      <th>Frappuccino® Light Blended Coffee</th>\n",
       "      <td>162.500000</td>\n",
       "      <td>27.500000</td>\n",
       "    </tr>\n",
       "    <tr>\n",
       "      <th>Shaken Iced Beverages</th>\n",
       "      <td>114.444444</td>\n",
       "      <td>-20.555556</td>\n",
       "    </tr>\n",
       "    <tr>\n",
       "      <th>Signature Espresso Drinks</th>\n",
       "      <td>250.000000</td>\n",
       "      <td>115.000000</td>\n",
       "    </tr>\n",
       "    <tr>\n",
       "      <th>Smoothies</th>\n",
       "      <td>282.222222</td>\n",
       "      <td>147.222222</td>\n",
       "    </tr>\n",
       "    <tr>\n",
       "      <th>Tazo® Tea Drinks</th>\n",
       "      <td>177.307692</td>\n",
       "      <td>42.307692</td>\n",
       "    </tr>\n",
       "  </tbody>\n",
       "</table>\n",
       "</div>"
      ],
      "text/plain": [
       "                                     Calories  calorie_diff\n",
       "Beverage_category                                          \n",
       "Classic Espresso Drinks            140.172414      5.172414\n",
       "Coffee                               4.250000   -130.750000\n",
       "Frappuccino® Blended Coffee        276.944444    141.944444\n",
       "Frappuccino® Blended Crème         233.076923     98.076923\n",
       "Frappuccino® Light Blended Coffee  162.500000     27.500000\n",
       "Shaken Iced Beverages              114.444444    -20.555556\n",
       "Signature Espresso Drinks          250.000000    115.000000\n",
       "Smoothies                          282.222222    147.222222\n",
       "Tazo® Tea Drinks                   177.307692     42.307692"
      ]
     },
     "execution_count": 25,
     "metadata": {},
     "output_type": "execute_result"
    }
   ],
   "source": [
    "drinks.groupby(\"Beverage_category\").mean()"
   ]
  },
  {
   "cell_type": "markdown",
   "id": "46415aea",
   "metadata": {},
   "source": [
    "Harder - Which Beverage_prep type contains more than the average calories of all drinks? (Hint: to answer this, you’ll have to first figure out what the average calories across all drinks are, and then use that as a filter for the grouped Beverage_prep data).\n"
   ]
  },
  {
   "cell_type": "code",
   "execution_count": 44,
   "id": "4696a89c",
   "metadata": {},
   "outputs": [
    {
     "data": {
      "text/html": [
       "<div>\n",
       "<style scoped>\n",
       "    .dataframe tbody tr th:only-of-type {\n",
       "        vertical-align: middle;\n",
       "    }\n",
       "\n",
       "    .dataframe tbody tr th {\n",
       "        vertical-align: top;\n",
       "    }\n",
       "\n",
       "    .dataframe thead th {\n",
       "        text-align: right;\n",
       "    }\n",
       "</style>\n",
       "<table border=\"1\" class=\"dataframe\">\n",
       "  <thead>\n",
       "    <tr style=\"text-align: right;\">\n",
       "      <th></th>\n",
       "      <th>Calories</th>\n",
       "      <th>calorie_diff</th>\n",
       "    </tr>\n",
       "    <tr>\n",
       "      <th>Beverage_prep</th>\n",
       "      <th></th>\n",
       "      <th></th>\n",
       "    </tr>\n",
       "  </thead>\n",
       "  <tbody>\n",
       "    <tr>\n",
       "      <th>2% Milk</th>\n",
       "      <td>218.000000</td>\n",
       "      <td>83.000000</td>\n",
       "    </tr>\n",
       "    <tr>\n",
       "      <th>Grande Nonfat Milk</th>\n",
       "      <td>209.615385</td>\n",
       "      <td>74.615385</td>\n",
       "    </tr>\n",
       "    <tr>\n",
       "      <th>Soymilk</th>\n",
       "      <td>207.272727</td>\n",
       "      <td>72.272727</td>\n",
       "    </tr>\n",
       "    <tr>\n",
       "      <th>Venti Nonfat Milk</th>\n",
       "      <td>260.000000</td>\n",
       "      <td>125.000000</td>\n",
       "    </tr>\n",
       "    <tr>\n",
       "      <th>Whole Milk</th>\n",
       "      <td>283.750000</td>\n",
       "      <td>148.750000</td>\n",
       "    </tr>\n",
       "  </tbody>\n",
       "</table>\n",
       "</div>"
      ],
      "text/plain": [
       "                      Calories  calorie_diff\n",
       "Beverage_prep                               \n",
       "2% Milk             218.000000     83.000000\n",
       "Grande Nonfat Milk  209.615385     74.615385\n",
       "Soymilk             207.272727     72.272727\n",
       "Venti Nonfat Milk   260.000000    125.000000\n",
       "Whole Milk          283.750000    148.750000"
      ]
     },
     "execution_count": 44,
     "metadata": {},
     "output_type": "execute_result"
    }
   ],
   "source": [
    "average_cal = drinks.mean()[\"Calories\"]\n",
    "drinks.groupby(\"Beverage_prep\").mean().loc[(drinks.groupby(\"Beverage_prep\").mean()[\"Calories\"] > average_cal)]\n",
    "# Is there a way just to use that number on the calories and then find distinct or???\n"
   ]
  },
  {
   "cell_type": "markdown",
   "id": "0e62b48f",
   "metadata": {},
   "source": [
    "Harder - Which is the best type of coffee drink to get if you’re worried about consuming too many calories? (Hint: you can use pd.unique() on a column to get all unique values/levels of that column! Also remember that you can use isin() to subset with a list)"
   ]
  },
  {
   "cell_type": "code",
   "execution_count": 46,
   "id": "13af8309",
   "metadata": {},
   "outputs": [
    {
     "data": {
      "text/plain": [
       "array(['Coffee', 'Classic Espresso Drinks', 'Signature Espresso Drinks',\n",
       "       'Tazo® Tea Drinks', 'Shaken Iced Beverages', 'Smoothies',\n",
       "       'Frappuccino® Blended Coffee', 'Frappuccino® Light Blended Coffee',\n",
       "       'Frappuccino® Blended Crème'], dtype=object)"
      ]
     },
     "execution_count": 46,
     "metadata": {},
     "output_type": "execute_result"
    }
   ],
   "source": [
    "pd.unique(drinks.Beverage_category)"
   ]
  },
  {
   "cell_type": "code",
   "execution_count": 68,
   "id": "66621f5c",
   "metadata": {},
   "outputs": [
    {
     "data": {
      "text/html": [
       "<div>\n",
       "<style scoped>\n",
       "    .dataframe tbody tr th:only-of-type {\n",
       "        vertical-align: middle;\n",
       "    }\n",
       "\n",
       "    .dataframe tbody tr th {\n",
       "        vertical-align: top;\n",
       "    }\n",
       "\n",
       "    .dataframe thead th {\n",
       "        text-align: right;\n",
       "    }\n",
       "</style>\n",
       "<table border=\"1\" class=\"dataframe\">\n",
       "  <thead>\n",
       "    <tr style=\"text-align: right;\">\n",
       "      <th></th>\n",
       "      <th>Beverage_category</th>\n",
       "      <th>Beverage_prep</th>\n",
       "      <th>Calories</th>\n",
       "      <th>calorie_diff</th>\n",
       "    </tr>\n",
       "  </thead>\n",
       "  <tbody>\n",
       "    <tr>\n",
       "      <th>0</th>\n",
       "      <td>Coffee</td>\n",
       "      <td>Short</td>\n",
       "      <td>3</td>\n",
       "      <td>-132</td>\n",
       "    </tr>\n",
       "  </tbody>\n",
       "</table>\n",
       "</div>"
      ],
      "text/plain": [
       "  Beverage_category Beverage_prep  Calories  calorie_diff\n",
       "0            Coffee         Short         3          -132"
      ]
     },
     "execution_count": 68,
     "metadata": {},
     "output_type": "execute_result"
    }
   ],
   "source": [
    "drinks.loc[drinks.Beverage_category.isin(['Coffee',\n",
    "                                          'Classic Espresso Drinks',\n",
    "                                          'Signature Espresso Drinks',\n",
    "                                          'Frappuccino® Blended Coffee',\n",
    "                                          'Frappuccino® Light Blended Coffee'])].sort_values(\"Calories\").head(1)\n",
    "\n",
    "# seems way too convoluted?"
   ]
  },
  {
   "cell_type": "markdown",
   "id": "87540d39",
   "metadata": {},
   "source": [
    "Filter the dataset drinks so we only take \"Classic Espresso Drinks\", and save this in a new data frame called espresso_drinks."
   ]
  },
  {
   "cell_type": "code",
   "execution_count": 72,
   "id": "b0588fe1",
   "metadata": {},
   "outputs": [],
   "source": [
    "espresso_drinks = drinks.loc[drinks.Beverage_category == 'Classic Espresso Drinks'].copy()"
   ]
  },
  {
   "cell_type": "markdown",
   "id": "eb1a8db1",
   "metadata": {},
   "source": [
    "Group your espresso_drinks data frame by the type of Beverage prep, and then find out the mean calories for each drink group.\n"
   ]
  },
  {
   "cell_type": "code",
   "execution_count": 80,
   "id": "34bbc9c6",
   "metadata": {},
   "outputs": [
    {
     "data": {
      "text/html": [
       "<div>\n",
       "<style scoped>\n",
       "    .dataframe tbody tr th:only-of-type {\n",
       "        vertical-align: middle;\n",
       "    }\n",
       "\n",
       "    .dataframe tbody tr th {\n",
       "        vertical-align: top;\n",
       "    }\n",
       "\n",
       "    .dataframe thead th {\n",
       "        text-align: right;\n",
       "    }\n",
       "</style>\n",
       "<table border=\"1\" class=\"dataframe\">\n",
       "  <thead>\n",
       "    <tr style=\"text-align: right;\">\n",
       "      <th></th>\n",
       "      <th>Calories</th>\n",
       "      <th>calorie_diff</th>\n",
       "    </tr>\n",
       "    <tr>\n",
       "      <th>Beverage_prep</th>\n",
       "      <th></th>\n",
       "      <th></th>\n",
       "    </tr>\n",
       "  </thead>\n",
       "  <tbody>\n",
       "    <tr>\n",
       "      <th>2% Milk</th>\n",
       "      <td>184.375</td>\n",
       "      <td>49.375</td>\n",
       "    </tr>\n",
       "    <tr>\n",
       "      <th>Doppio</th>\n",
       "      <td>10.000</td>\n",
       "      <td>-125.000</td>\n",
       "    </tr>\n",
       "    <tr>\n",
       "      <th>Grande</th>\n",
       "      <td>15.000</td>\n",
       "      <td>-120.000</td>\n",
       "    </tr>\n",
       "    <tr>\n",
       "      <th>Grande Nonfat Milk</th>\n",
       "      <td>150.000</td>\n",
       "      <td>15.000</td>\n",
       "    </tr>\n",
       "    <tr>\n",
       "      <th>Short</th>\n",
       "      <td>5.000</td>\n",
       "      <td>-130.000</td>\n",
       "    </tr>\n",
       "    <tr>\n",
       "      <th>Short Nonfat Milk</th>\n",
       "      <td>78.000</td>\n",
       "      <td>-57.000</td>\n",
       "    </tr>\n",
       "    <tr>\n",
       "      <th>Solo</th>\n",
       "      <td>5.000</td>\n",
       "      <td>-130.000</td>\n",
       "    </tr>\n",
       "    <tr>\n",
       "      <th>Soymilk</th>\n",
       "      <td>151.250</td>\n",
       "      <td>16.250</td>\n",
       "    </tr>\n",
       "    <tr>\n",
       "      <th>Tall</th>\n",
       "      <td>10.000</td>\n",
       "      <td>-125.000</td>\n",
       "    </tr>\n",
       "    <tr>\n",
       "      <th>Tall Nonfat Milk</th>\n",
       "      <td>116.000</td>\n",
       "      <td>-19.000</td>\n",
       "    </tr>\n",
       "    <tr>\n",
       "      <th>Venti</th>\n",
       "      <td>25.000</td>\n",
       "      <td>-110.000</td>\n",
       "    </tr>\n",
       "    <tr>\n",
       "      <th>Venti Nonfat Milk</th>\n",
       "      <td>194.000</td>\n",
       "      <td>59.000</td>\n",
       "    </tr>\n",
       "  </tbody>\n",
       "</table>\n",
       "</div>"
      ],
      "text/plain": [
       "                    Calories  calorie_diff\n",
       "Beverage_prep                             \n",
       "2% Milk              184.375        49.375\n",
       "Doppio                10.000      -125.000\n",
       "Grande                15.000      -120.000\n",
       "Grande Nonfat Milk   150.000        15.000\n",
       "Short                  5.000      -130.000\n",
       "Short Nonfat Milk     78.000       -57.000\n",
       "Solo                   5.000      -130.000\n",
       "Soymilk              151.250        16.250\n",
       "Tall                  10.000      -125.000\n",
       "Tall Nonfat Milk     116.000       -19.000\n",
       "Venti                 25.000      -110.000\n",
       "Venti Nonfat Milk    194.000        59.000"
      ]
     },
     "execution_count": 80,
     "metadata": {},
     "output_type": "execute_result"
    }
   ],
   "source": [
    "espresso_drinks.groupby(\"Beverage_prep\").mean()"
   ]
  },
  {
   "cell_type": "markdown",
   "id": "3789e5d0",
   "metadata": {},
   "source": [
    "Get the same grouped mean Calories values as above, but this time sorted in descending order. (Hint: so you're able to sort the resulting groupby by the 'Calories' column you will want to ensure you get back a dataframe and not a series)"
   ]
  },
  {
   "cell_type": "code",
   "execution_count": 85,
   "id": "070ebbf8",
   "metadata": {},
   "outputs": [
    {
     "data": {
      "text/html": [
       "<div>\n",
       "<style scoped>\n",
       "    .dataframe tbody tr th:only-of-type {\n",
       "        vertical-align: middle;\n",
       "    }\n",
       "\n",
       "    .dataframe tbody tr th {\n",
       "        vertical-align: top;\n",
       "    }\n",
       "\n",
       "    .dataframe thead th {\n",
       "        text-align: right;\n",
       "    }\n",
       "</style>\n",
       "<table border=\"1\" class=\"dataframe\">\n",
       "  <thead>\n",
       "    <tr style=\"text-align: right;\">\n",
       "      <th></th>\n",
       "      <th>Calories</th>\n",
       "      <th>calorie_diff</th>\n",
       "    </tr>\n",
       "    <tr>\n",
       "      <th>Beverage_prep</th>\n",
       "      <th></th>\n",
       "      <th></th>\n",
       "    </tr>\n",
       "  </thead>\n",
       "  <tbody>\n",
       "    <tr>\n",
       "      <th>Venti Nonfat Milk</th>\n",
       "      <td>194.000</td>\n",
       "      <td>59.000</td>\n",
       "    </tr>\n",
       "    <tr>\n",
       "      <th>2% Milk</th>\n",
       "      <td>184.375</td>\n",
       "      <td>49.375</td>\n",
       "    </tr>\n",
       "    <tr>\n",
       "      <th>Soymilk</th>\n",
       "      <td>151.250</td>\n",
       "      <td>16.250</td>\n",
       "    </tr>\n",
       "    <tr>\n",
       "      <th>Grande Nonfat Milk</th>\n",
       "      <td>150.000</td>\n",
       "      <td>15.000</td>\n",
       "    </tr>\n",
       "    <tr>\n",
       "      <th>Tall Nonfat Milk</th>\n",
       "      <td>116.000</td>\n",
       "      <td>-19.000</td>\n",
       "    </tr>\n",
       "    <tr>\n",
       "      <th>Short Nonfat Milk</th>\n",
       "      <td>78.000</td>\n",
       "      <td>-57.000</td>\n",
       "    </tr>\n",
       "    <tr>\n",
       "      <th>Venti</th>\n",
       "      <td>25.000</td>\n",
       "      <td>-110.000</td>\n",
       "    </tr>\n",
       "    <tr>\n",
       "      <th>Grande</th>\n",
       "      <td>15.000</td>\n",
       "      <td>-120.000</td>\n",
       "    </tr>\n",
       "    <tr>\n",
       "      <th>Doppio</th>\n",
       "      <td>10.000</td>\n",
       "      <td>-125.000</td>\n",
       "    </tr>\n",
       "    <tr>\n",
       "      <th>Tall</th>\n",
       "      <td>10.000</td>\n",
       "      <td>-125.000</td>\n",
       "    </tr>\n",
       "    <tr>\n",
       "      <th>Short</th>\n",
       "      <td>5.000</td>\n",
       "      <td>-130.000</td>\n",
       "    </tr>\n",
       "    <tr>\n",
       "      <th>Solo</th>\n",
       "      <td>5.000</td>\n",
       "      <td>-130.000</td>\n",
       "    </tr>\n",
       "  </tbody>\n",
       "</table>\n",
       "</div>"
      ],
      "text/plain": [
       "                    Calories  calorie_diff\n",
       "Beverage_prep                             \n",
       "Venti Nonfat Milk    194.000        59.000\n",
       "2% Milk              184.375        49.375\n",
       "Soymilk              151.250        16.250\n",
       "Grande Nonfat Milk   150.000        15.000\n",
       "Tall Nonfat Milk     116.000       -19.000\n",
       "Short Nonfat Milk     78.000       -57.000\n",
       "Venti                 25.000      -110.000\n",
       "Grande                15.000      -120.000\n",
       "Doppio                10.000      -125.000\n",
       "Tall                  10.000      -125.000\n",
       "Short                  5.000      -130.000\n",
       "Solo                   5.000      -130.000"
      ]
     },
     "execution_count": 85,
     "metadata": {},
     "output_type": "execute_result"
    }
   ],
   "source": [
    "espresso_drinks.groupby(\"Beverage_prep\").mean().sort_values(\"Calories\", ascending = False)"
   ]
  }
 ],
 "metadata": {
  "kernelspec": {
   "display_name": "Python 3 (ipykernel)",
   "language": "python",
   "name": "python3"
  },
  "language_info": {
   "codemirror_mode": {
    "name": "ipython",
    "version": 3
   },
   "file_extension": ".py",
   "mimetype": "text/x-python",
   "name": "python",
   "nbconvert_exporter": "python",
   "pygments_lexer": "ipython3",
   "version": "3.9.7"
  }
 },
 "nbformat": 4,
 "nbformat_minor": 5
}
